{
 "cells": [
  {
   "cell_type": "code",
   "execution_count": 1,
   "metadata": {},
   "outputs": [],
   "source": [
    "import os\n",
    "os.chdir('./DDE')\n",
    "\n",
    "import torch\n",
    "from torch.autograd import Variable\n",
    "import torch.nn.functional as F\n",
    "from torch.utils import data\n",
    "from torch import nn \n",
    "import copy\n",
    "\n",
    "from tqdm import tqdm\n",
    "import matplotlib.pyplot as plt\n",
    "import numpy as np\n",
    "import pandas as pd\n",
    "from time import time\n",
    "from sklearn.metrics import roc_auc_score, precision_recall_curve\n",
    "from sklearn.model_selection import KFold\n",
    "torch.manual_seed(2)    # reproducible torch:2 np:3\n",
    "np.random.seed(3)\n",
    "\n",
    "from dde_config import dde_NN_config\n",
    "from dde_torch import dde_NN, simple_autoencoder_NN, simple_NN, dde_NN_Large_Predictor\n",
    "from stream_dde import supData, unsupData\n",
    "\n",
    "use_cuda = torch.cuda.is_available()\n",
    "device = torch.device(\"cuda:0\" if use_cuda else \"cpu\")"
   ]
  },
  {
   "cell_type": "code",
   "execution_count": 2,
   "metadata": {},
   "outputs": [],
   "source": [
    "from subword_nmt.apply_bpe import BPE\n",
    "import codecs\n",
    "\n",
    "dataFolder = './data'\n",
    "\n",
    "vocab_path = dataFolder + '/codes.txt'\n",
    "bpe_codes_fin = codecs.open(vocab_path)\n",
    "bpe = BPE(bpe_codes_fin, merges=-1, separator='')\n",
    "\n",
    "vocab_map = pd.read_csv(dataFolder + '/subword_units_map.csv')\n",
    "idx2word = vocab_map['index'].values\n",
    "words2idx = dict(zip(idx2word, range(0, len(idx2word))))"
   ]
  },
  {
   "cell_type": "code",
   "execution_count": 3,
   "metadata": {},
   "outputs": [],
   "source": [
    "def smiles2index(s1, s2):\n",
    "    t1 = bpe.process_line(s1).split() #split\n",
    "    t2 = bpe.process_line(s2).split() #split\n",
    "    i1 = [words2idx[i] for i in t1] # index\n",
    "    i2 = [words2idx[i] for i in t2] # index\n",
    "    return i1, i2\n",
    "\n",
    "def index2multi_hot(i1, i2):\n",
    "    v1 = np.zeros(len(idx2word),)\n",
    "    v2 = np.zeros(len(idx2word),)\n",
    "    v1[i1] = 1\n",
    "    v2[i2] = 1\n",
    "    v_d = np.maximum(v1, v2)\n",
    "    return v_d\n",
    "\n",
    "def smiles2vector(s1, s2):\n",
    "    i1, i2 = smiles2index(s1, s2)\n",
    "    v_d = index2multi_hot(i1, i2)\n",
    "    #v_f = index2single_hot(i1, i2)\n",
    "    return v_d"
   ]
  },
  {
   "cell_type": "code",
   "execution_count": 4,
   "metadata": {},
   "outputs": [],
   "source": [
    "dataFolder = '../../../../../scratch/kh2383/DFI_data'\n",
    "df_ddi = pd.read_csv(dataFolder + '/data/SNAP/sup_train_val.csv')\n",
    "#model.eval()"
   ]
  },
  {
   "cell_type": "code",
   "execution_count": 5,
   "metadata": {},
   "outputs": [
    {
     "data": {
      "text/html": [
       "<div>\n",
       "<style scoped>\n",
       "    .dataframe tbody tr th:only-of-type {\n",
       "        vertical-align: middle;\n",
       "    }\n",
       "\n",
       "    .dataframe tbody tr th {\n",
       "        vertical-align: top;\n",
       "    }\n",
       "\n",
       "    .dataframe thead th {\n",
       "        text-align: right;\n",
       "    }\n",
       "</style>\n",
       "<table border=\"1\" class=\"dataframe\">\n",
       "  <thead>\n",
       "    <tr style=\"text-align: right;\">\n",
       "      <th></th>\n",
       "      <th>Drug1_ID</th>\n",
       "      <th>Drug1_SMILES</th>\n",
       "      <th>Drug2_ID</th>\n",
       "      <th>Drug2_SMILES</th>\n",
       "      <th>label</th>\n",
       "    </tr>\n",
       "  </thead>\n",
       "  <tbody>\n",
       "    <tr>\n",
       "      <th>0</th>\n",
       "      <td>DB00706</td>\n",
       "      <td>CCOc1ccccc1OCCN[C@H](C)Cc1ccc(OC)c(S(N)(=O)=O)c1</td>\n",
       "      <td>DB01023</td>\n",
       "      <td>CCOC(=O)C1=C(C)NC(C)=C(C(=O)OC)C1c1cccc(Cl)c1Cl</td>\n",
       "      <td>1.0</td>\n",
       "    </tr>\n",
       "    <tr>\n",
       "      <th>1</th>\n",
       "      <td>DB01068</td>\n",
       "      <td>O=C1CN=C(c2ccccc2Cl)c2cc([N+](=O)[O-])ccc2N1</td>\n",
       "      <td>DB00928</td>\n",
       "      <td>Nc1ncn([C@@H]2O[C@H](CO)[C@@H](O)[C@H]2O)c(=O)n1</td>\n",
       "      <td>0.0</td>\n",
       "    </tr>\n",
       "  </tbody>\n",
       "</table>\n",
       "</div>"
      ],
      "text/plain": [
       "  Drug1_ID                                      Drug1_SMILES Drug2_ID  \\\n",
       "0  DB00706  CCOc1ccccc1OCCN[C@H](C)Cc1ccc(OC)c(S(N)(=O)=O)c1  DB01023   \n",
       "1  DB01068      O=C1CN=C(c2ccccc2Cl)c2cc([N+](=O)[O-])ccc2N1  DB00928   \n",
       "\n",
       "                                       Drug2_SMILES  label  \n",
       "0   CCOC(=O)C1=C(C)NC(C)=C(C(=O)OC)C1c1cccc(Cl)c1Cl    1.0  \n",
       "1  Nc1ncn([C@@H]2O[C@H](CO)[C@@H](O)[C@H]2O)c(=O)n1    0.0  "
      ]
     },
     "execution_count": 5,
     "metadata": {},
     "output_type": "execute_result"
    }
   ],
   "source": [
    "df_ddi.head(2)"
   ]
  },
  {
   "cell_type": "code",
   "execution_count": 6,
   "metadata": {},
   "outputs": [],
   "source": [
    "def get_codes(s1, s2, model):\n",
    "    v_D = smiles2vector(s1, s2)\n",
    "    v_D = np.expand_dims(v_D, axis = 0)\n",
    "    _, code, s, _ ,_ = model(torch.tensor(v_D).float())\n",
    "    return code.squeeze().detach().cpu().numpy(), s"
   ]
  },
  {
   "cell_type": "code",
   "execution_count": 7,
   "metadata": {},
   "outputs": [],
   "source": [
    "s1 = df_ddi[df_ddi.Drug1_ID == 'DB01020'].Drug1_SMILES.values[0]"
   ]
  },
  {
   "cell_type": "code",
   "execution_count": 8,
   "metadata": {},
   "outputs": [
    {
     "data": {
      "text/plain": [
       "'O=[N+]([O-])O[C@@H]1CO[C@@H]2[C@@H](O)CO[C@H]12'"
      ]
     },
     "execution_count": 8,
     "metadata": {},
     "output_type": "execute_result"
    }
   ],
   "source": [
    "s1"
   ]
  },
  {
   "cell_type": "code",
   "execution_count": 9,
   "metadata": {},
   "outputs": [],
   "source": [
    "s2 = df_ddi[df_ddi.Drug1_ID == 'DB00203'].Drug1_SMILES.values[0]"
   ]
  },
  {
   "cell_type": "code",
   "execution_count": 10,
   "metadata": {},
   "outputs": [
    {
     "data": {
      "text/plain": [
       "'CCCc1nn(C)c2c(=O)nc(-c3cc(S(=O)(=O)N4CCN(C)CC4)ccc3OCC)[nH]c12'"
      ]
     },
     "execution_count": 10,
     "metadata": {},
     "output_type": "execute_result"
    }
   ],
   "source": [
    "s2"
   ]
  },
  {
   "cell_type": "code",
   "execution_count": 17,
   "metadata": {},
   "outputs": [],
   "source": [
    "dict_codes = []"
   ]
  },
  {
   "cell_type": "code",
   "execution_count": 22,
   "metadata": {},
   "outputs": [],
   "source": [
    "for i in ['5', '10', '15', '20', '25']:\n",
    "    model = torch.load('../../../../../scratch/kh2383/DFI_checkpoint/model_train_checkpoint_deepDDI_small_Run2_explainability_seed' + i + '.pt')\n",
    "    #model.load_state_dict(model)\n",
    "    if isinstance(model, torch.nn.DataParallel):\n",
    "        model = model.module\n",
    "    model.cuda()\n",
    "    model.eval()\n",
    "    code, score = get_codes(s1, s2, model)\n",
    "    code1 = np.abs(code[np.abs(code)>0])*100\n",
    "    dict_codes.append(code1)"
   ]
  },
  {
   "cell_type": "code",
   "execution_count": 29,
   "metadata": {},
   "outputs": [
    {
     "data": {
      "text/plain": [
       "[array([ 0.63542426,  0.44687057,  6.33255529,  7.1794467 ,  4.8289566 ,\n",
       "         7.77798128,  2.47209358,  7.77451897,  7.52848101,  3.0971632 ,\n",
       "         6.39500332,  5.20142174,  5.87682152,  4.52361298,  1.83678734,\n",
       "         6.79152107,  2.82770014,  7.7742219 ,  1.89271498,  7.77455568,\n",
       "         0.4949483 ,  6.2375164 ,  0.934048  ,  0.67924112,  7.77444696], dtype=float32),\n",
       " array([ 0.01780428,  0.1331259 ,  3.89042711,  7.06324005,  3.9596386 ,\n",
       "         6.61894989,  1.32479537,  6.9335289 ,  6.64494944,  6.79534388,\n",
       "         4.23204994,  4.39468861,  6.81447411,  2.31668234,  4.62658739,\n",
       "         4.81248665,  5.48766088,  1.57640505,  6.49967289,  7.0633688 ,\n",
       "         0.71887422,  4.12155199,  0.1638066 ,  0.17555533,  7.06337404], dtype=float32),\n",
       " array([ 0.29192531,  0.48657787,  4.27260447,  6.35948324,  4.15854836,\n",
       "         6.19628334,  4.72457743,  6.28347683,  5.82954979,  6.35947514,\n",
       "         6.359622  ,  4.14088583,  6.11369514,  3.15054655,  6.35948849,\n",
       "         5.28634882,  6.35953331,  3.35906601,  5.61386728,  6.18970537,\n",
       "         0.07247571,  2.49790788,  0.35807824,  0.99886924,  6.35951662], dtype=float32),\n",
       " array([ 1.14123428,  2.53995657,  5.14567947,  7.20398521,  4.30770206,\n",
       "         7.6886797 ,  4.89014482,  7.20399332,  5.61421061,  5.19274569,\n",
       "         5.81774426,  0.61560982,  6.16710186,  2.45936918,  0.8437506 ,\n",
       "         4.94349957,  4.3583622 ,  7.20399761,  4.60464001,  6.39035606,\n",
       "         2.83984923,  2.44025087,  0.05058878,  0.03891326,  7.20398998], dtype=float32),\n",
       " array([ 0.84122586,  0.92053282,  5.55640697,  5.47608137,  4.95133591,\n",
       "         4.66842747,  2.08443856,  5.47608232,  4.85661125,  5.47608709,\n",
       "         4.70946407,  4.87196779,  4.71470976,  0.4168151 ,  0.18098168,\n",
       "         4.74224758,  3.11976147,  5.47608185,  4.18008804,  5.47608376,\n",
       "         0.61316276,  0.89249676,  0.78801113,  3.28678155,  5.4760828 ], dtype=float32)]"
      ]
     },
     "execution_count": 29,
     "metadata": {},
     "output_type": "execute_result"
    }
   ],
   "source": [
    "dict_codes"
   ]
  },
  {
   "cell_type": "code",
   "execution_count": 27,
   "metadata": {},
   "outputs": [
    {
     "data": {
      "text/plain": [
       "(25, 5)"
      ]
     },
     "execution_count": 27,
     "metadata": {},
     "output_type": "execute_result"
    }
   ],
   "source": [
    "np.asarray(dict_codes).T.shape"
   ]
  },
  {
   "cell_type": "code",
   "execution_count": 30,
   "metadata": {},
   "outputs": [],
   "source": [
    "correlation_matrix = pd.DataFrame(np.asarray(dict_codes).T).corr()"
   ]
  },
  {
   "cell_type": "code",
   "execution_count": 33,
   "metadata": {},
   "outputs": [
    {
     "data": {
      "text/plain": [
       "0.7673216786083199"
      ]
     },
     "execution_count": 33,
     "metadata": {},
     "output_type": "execute_result"
    }
   ],
   "source": [
    "correlation_matrix.mean().mean()"
   ]
  },
  {
   "cell_type": "code",
   "execution_count": null,
   "metadata": {},
   "outputs": [],
   "source": []
  },
  {
   "cell_type": "code",
   "execution_count": null,
   "metadata": {},
   "outputs": [],
   "source": [
    "# from the first experiment"
   ]
  },
  {
   "cell_type": "code",
   "execution_count": 16,
   "metadata": {},
   "outputs": [
    {
     "data": {
      "text/plain": [
       "array(['N', 'CCC', 'c12', 'c2c(=O)', 'O=[N+]([O-])'], dtype=object)"
      ]
     },
     "execution_count": 16,
     "metadata": {},
     "output_type": "execute_result"
    }
   ],
   "source": [
    "idx = np.argwhere(np.abs(code)>0).flatten()\n",
    "high_idx = idx[more>0.08]\n",
    "idx2word[high_idx]"
   ]
  },
  {
   "cell_type": "code",
   "execution_count": 17,
   "metadata": {},
   "outputs": [
    {
     "data": {
      "text/plain": [
       "array([')', '4', 'n', 'N', '2', '(', 'c3', 'CCC', 'CO', 'OCC', '[C@@H](O)',\n",
       "       '[C@H]1', '[nH]', '(C)CC', 'c1n', '[C@@H]2', 'CCN', 'S(=O)(=O)',\n",
       "       'O[C@@H]1', 'c12', 'c(-c3cc', 'c2c(=O)', '4)cc', 'n(C)',\n",
       "       'O=[N+]([O-])'], dtype=object)"
      ]
     },
     "execution_count": 17,
     "metadata": {},
     "output_type": "execute_result"
    }
   ],
   "source": [
    "idx2word[idx]"
   ]
  },
  {
   "cell_type": "code",
   "execution_count": 18,
   "metadata": {},
   "outputs": [
    {
     "data": {
      "text/plain": [
       "['O=[N+]([O-])', 'O[C@@H]1', 'CO', '[C@@H]2', '[C@@H](O)', 'CO', '[C@H]1', '2']"
      ]
     },
     "execution_count": 18,
     "metadata": {},
     "output_type": "execute_result"
    }
   ],
   "source": [
    "bpe.process_line(s1).split()"
   ]
  },
  {
   "cell_type": "code",
   "execution_count": 19,
   "metadata": {},
   "outputs": [
    {
     "data": {
      "text/plain": [
       "['CCC',\n",
       " 'c1n',\n",
       " 'n(C)',\n",
       " 'c2c(=O)',\n",
       " 'n',\n",
       " 'c(-c3cc',\n",
       " '(',\n",
       " 'S(=O)(=O)',\n",
       " 'N',\n",
       " '4',\n",
       " 'CCN',\n",
       " '(C)CC',\n",
       " '4)cc',\n",
       " 'c3',\n",
       " 'OCC',\n",
       " ')',\n",
       " '[nH]',\n",
       " 'c12']"
      ]
     },
     "execution_count": 19,
     "metadata": {},
     "output_type": "execute_result"
    }
   ],
   "source": [
    "bpe.process_line(s2).split()"
   ]
  }
 ],
 "metadata": {
  "kernelspec": {
   "display_name": "Python 3",
   "language": "python",
   "name": "python3"
  },
  "language_info": {
   "codemirror_mode": {
    "name": "ipython",
    "version": 3
   },
   "file_extension": ".py",
   "mimetype": "text/x-python",
   "name": "python",
   "nbconvert_exporter": "python",
   "pygments_lexer": "ipython3",
   "version": "3.7.4"
  }
 },
 "nbformat": 4,
 "nbformat_minor": 2
}
